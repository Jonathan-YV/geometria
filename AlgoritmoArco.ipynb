{
  "nbformat": 4,
  "nbformat_minor": 0,
  "metadata": {
    "colab": {
      "name": "AlgoritmoArco",
      "provenance": [],
      "collapsed_sections": []
    },
    "kernelspec": {
      "name": "python3",
      "display_name": "Python 3"
    }
  },
  "cells": [
    {
      "cell_type": "code",
      "metadata": {
        "id": "mTjrjUuiSsm-"
      },
      "source": [
        "import math as m\n",
        "import matplotlib.pyplot as plt"
      ],
      "execution_count": null,
      "outputs": []
    },
    {
      "cell_type": "code",
      "metadata": {
        "id": "yCh0IaqkSzHE",
        "outputId": "247c6f3e-c16a-4013-e82c-cac2de2d606d",
        "colab": {
          "base_uri": "https://localhost:8080/",
          "height": 85
        }
      },
      "source": [
        "x0=float(input(\"Ingrese la coordenada en x0: \"))\n",
        "y0=float(input(\"Ingrese la coordenada en y0: \"))\n",
        "x1=float(input(\"Ingrese la coordenada en x1: \"))\n",
        "y1=float(input(\"Ingrese la coordenada en y1: \"))"
      ],
      "execution_count": null,
      "outputs": [
        {
          "output_type": "stream",
          "text": [
            "Ingrese la coordenada en x0: -5\n",
            "Ingrese la coordenada en y0: 0\n",
            "Ingrese la coordenada en x1: 5\n",
            "Ingrese la coordenada en y1: 0\n"
          ],
          "name": "stdout"
        }
      ]
    },
    {
      "cell_type": "code",
      "metadata": {
        "id": "WNX17vzvYDGf",
        "outputId": "27ba26bb-91dc-4d02-8b31-22de5914509c",
        "colab": {
          "base_uri": "https://localhost:8080/",
          "height": 269
        }
      },
      "source": [
        "xC=(x0+x1)/2\n",
        "yC=(y0+y1)/2\n",
        "d=m.sqrt(((x1-x0)**2)+((y1-y0)**2))\n",
        "R=d/2\n",
        "\n",
        "if x0>=xC and y0>=yC:\n",
        "  anguloC=m.acos((x0-xC)/R)\n",
        "\n",
        "if x0<=xC and y0>=yC:\n",
        "  ang=m.acos((xC-x0)/R)\n",
        "  anguloC=(m.pi)-ang\n",
        "\n",
        "if x0<=xC and y0<=yC:\n",
        "  ang=m.acos((xC-x0)/R)\n",
        "  anguloC=(m.pi)+ang\n",
        "\n",
        "if x0>=xC and y0<=yC:\n",
        "  ang=m.acos((x0-xC)/R)\n",
        "  anguloC=2*m.pi-ang\n",
        "\n",
        "valor=0\n",
        "xG=[]\n",
        "yG=[]\n",
        "while valor<m.pi:\n",
        "  xT=xC+R*m.cos(anguloC+valor)\n",
        "  xG.append(xT)\n",
        "  yT=yC+R*m.sin(anguloC+valor)\n",
        "  yG.append(yT)\n",
        "  valor=valor+0.001\n",
        "\n",
        "plt.plot(xG,yG,'.')\n",
        "plt.axhline(y=0, color='k', linestyle='-')\n",
        "plt.axvline(x=0,color='k', linestyle='-')\n",
        "plt.axis('square')\n",
        "\n",
        "if xC>=0 and yC>=0:\n",
        "  plt.axis([-2*R, xC+2*R, -2*R, yC+2*R])\n",
        "if xC>=0 and yC<=0:\n",
        "  plt.axis([-2*R, xC+2*R, yC-2*R, 2*R])\n",
        "if xC<=0 and yC>=0:\n",
        "  plt.axis([xC-2*R, 2*R, -2*R, yC+2*R])\n",
        "if xC<=0 and yC<=0:\n",
        "  plt.axis([xC-2*R, 2*R, yC-2*R, 2*R])\n",
        "  \n"
      ],
      "execution_count": null,
      "outputs": [
        {
          "output_type": "display_data",
          "data": {
            "image/png": "[encoded data removed]",
            "text/plain": [
              "<Figure size 432x288 with 1 Axes>"
            ]
          },
          "metadata": {
            "tags": [],
            "needs_background": "light"
          }
        }
      ]
    }
  ]
}
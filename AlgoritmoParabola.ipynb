{
  "nbformat": 4,
  "nbformat_minor": 0,
  "metadata": {
    "colab": {
      "name": "AlgoritmoParabola.ipynb",
      "provenance": []
    },
    "kernelspec": {
      "name": "python3",
      "display_name": "Python 3"
    }
  },
  "cells": [
    {
      "cell_type": "code",
      "metadata": {
        "id": "tic2qzEajbGK"
      },
      "source": [
        "import math as m\n",
        "import numpy as np\n",
        "import matplotlib.pyplot as plt"
      ],
      "execution_count": null,
      "outputs": []
    },
    {
      "cell_type": "code",
      "metadata": {
        "id": "HAuN2oGujjXH"
      },
      "source": [
        "xV=float(input(\"Ingrese la coordenada en x del vertice: \"))\n",
        "yV=float(input(\"Ingrese la coordenada en y del vertice: \"))\n",
        "F=float(input(\"Ingrese la distancia focal: \"))\n",
        "control0=0\n",
        "while control0==0:\n",
        "  if F==0:\n",
        "    print(\"La distancia focal no puede ser cero\")\n",
        "    F=float(input(\"Ingrese la distancia focal: \"))\n",
        "  else:\n",
        "    control0=1;\n",
        "VH=(input(\"Ingrese V si es una parabola vertical o H si es una parabola horizontal: \"))\n",
        "VH=VH.lower()\n",
        "control=0\n",
        "A=[\"v\",\"h\"]\n",
        "while control==0:\n",
        "  if VH==A[0] or VH==A[1]:\n",
        "    control=1\n",
        "  else:\n",
        "    print(\"Letra incorrecta\")\n",
        "    VH=(input(\"Ingrese V si es una parabola vertical o H si es una parabola horizontal: \"))\n",
        "    VH=VH.lower()"
      ],
      "execution_count": null,
      "outputs": []
    },
    {
      "cell_type": "code",
      "metadata": {
        "id": "Sl-QNb8SnIb-"
      },
      "source": [
        "if VH==\"v\":\n",
        "  x = np.linspace(xV-50,xV+50,1000)\n",
        "  y = ((x-xV)**2)/(4*F) + yV\n",
        "  fig = plt.figure()\n",
        "  plt.plot(x,y)\n",
        "  plt.axhline(y=0, color='k', linestyle='-')\n",
        "  plt.axvline(x=0,color='k', linestyle='-')\n",
        "  plt.show()\n",
        "if VH=='h':\n",
        "  y = np.linspace(yV-50,yV+50,1000)\n",
        "  x = ((y-yV)**2)/(4*F) + xV\n",
        "  fig = plt.figure()\n",
        "  plt.plot(x,y)\n",
        "  plt.axhline(y=0, color='k', linestyle='-')\n",
        "  plt.axvline(x=0,color='k', linestyle='-')\n",
        "  plt.show()"
      ],
      "execution_count": null,
      "outputs": []
    }
  ]
}